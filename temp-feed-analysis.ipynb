{
 "cells": [
  {
   "cell_type": "markdown",
   "metadata": {
    "nbpresent": {
     "id": "fd88dd9b-d242-4e5b-bfbc-fdd4c602d032"
    }
   },
   "source": [
    "# Sample Application for understanding.\n",
    "\n",
    "Demo for applying linear regression on two variables and plotting the same using matplotlib."
   ]
  },
  {
   "cell_type": "code",
   "execution_count": 194,
   "metadata": {
    "nbpresent": {
     "id": "33f9b397-6c5f-4fbc-b433-ab141f6a21f9"
    }
   },
   "outputs": [],
   "source": [
    "# Setting up Python ecosystem environment for data analysis.\n",
    "\n",
    "%matplotlib inline\n",
    "\n",
    "import pandas as pd\n",
    "import matplotlib.pyplot as plt\n",
    "import seaborn as sns\n",
    "import numpy as np\n",
    "from sklearn import datasets, linear_model"
   ]
  },
  {
   "cell_type": "code",
   "execution_count": 195,
   "metadata": {
    "nbpresent": {
     "id": "91a60416-7a18-46eb-a8c1-24ca13262db3"
    }
   },
   "outputs": [
    {
     "name": "stdout",
     "output_type": "stream",
     "text": [
      "    c1         c2\n",
      "0  0.0   0.968012\n",
      "1  1.0   2.712641\n",
      "2  2.0  11.958873\n",
      "3  3.0  10.889784\n",
      "4  4.0   3.968012\n"
     ]
    }
   ],
   "source": [
    "# Loading the data into pandas dataframe.\n",
    "\n",
    "data = pd.read_csv('/home/gopinathankm/work/workspace/machine-learning/linear-regression/test.csv', index_col=False, header=0)\n",
    "print(data.head())"
   ]
  },
  {
   "cell_type": "code",
   "execution_count": 196,
   "metadata": {
    "nbpresent": {
     "id": "b44db11a-92ab-4fed-988c-1068bc29382d"
    }
   },
   "outputs": [],
   "source": [
    "# Making a numpy array of length 10.\n",
    "length = 10\n",
    "x = np.arange(length, dtype=float).reshape((length, 1))\n",
    "y = x + (np.random.rand(length)*10).reshape((length, 1))"
   ]
  },
  {
   "cell_type": "code",
   "execution_count": 197,
   "metadata": {
    "nbpresent": {
     "id": "9da833ab-4385-49ea-9c3e-b9c186620cb4"
    }
   },
   "outputs": [
    {
     "name": "stdout",
     "output_type": "stream",
     "text": [
      "[ 0.  1.  2.  3.  4.  5.  6.  7.  8.  9.]\n"
     ]
    }
   ],
   "source": [
    "# fitting dataframe data into numpy array\n",
    "x = data.c1.values\n",
    "y = data.c2.values\n",
    "print(x)"
   ]
  },
  {
   "cell_type": "code",
   "execution_count": 198,
   "metadata": {
    "nbpresent": {
     "id": "c5f39f88-a82c-4357-afa6-075d7a8d33b4"
    }
   },
   "outputs": [],
   "source": [
    "# Reshaping the numpy arrays\n",
    "x = x.reshape(length, 1)\n",
    "y = y.reshape(length, 1)"
   ]
  },
  {
   "cell_type": "code",
   "execution_count": 199,
   "metadata": {
    "nbpresent": {
     "id": "6445e4c0-4aad-4720-8c13-1546679c9c95"
    }
   },
   "outputs": [
    {
     "data": {
      "text/plain": [
       "LinearRegression(copy_X=True, fit_intercept=True, n_jobs=1, normalize=False)"
      ]
     },
     "execution_count": 199,
     "metadata": {},
     "output_type": "execute_result"
    }
   ],
   "source": [
    "# Linear Regression model is created\n",
    "regr = linear_model.LinearRegression()\n",
    "\n",
    "# Fitting the numpy array into model\n",
    "regr.fit(x, y)"
   ]
  },
  {
   "cell_type": "code",
   "execution_count": 200,
   "metadata": {
    "nbpresent": {
     "id": "424bbecb-dcd8-49a8-81ac-0f64e3902989"
    }
   },
   "outputs": [
    {
     "data": {
      "image/png": "[encoded data removed]",
      "text/plain": [
       "<matplotlib.figure.Figure at 0x7f4087730e10>"
      ]
     },
     "metadata": {},
     "output_type": "display_data"
    }
   ],
   "source": [
    "# plot it as in the example at http://scikit-learn.org/\n",
    "plt.scatter(x, y,  color='black')\n",
    "plt.plot(x, regr.predict(x), color='blue', linewidth=3)\n",
    "plt.xticks(())\n",
    "plt.yticks(())\n",
    "plt.show()"
   ]
  },
  {
   "cell_type": "markdown",
   "metadata": {
    "nbpresent": {
     "id": "a359a0f9-363b-48de-80d9-bb9c73737527"
    }
   },
   "source": [
    "# Study of Feed Temperature and Column Feed(Taken from the SampleData)"
   ]
  },
  {
   "cell_type": "markdown",
   "metadata": {
    "nbpresent": {
     "id": "3fe55246-bfe8-409a-b406-33cc303f10b5"
    }
   },
   "source": [
    "# Solution 1"
   ]
  },
  {
   "cell_type": "code",
   "execution_count": 201,
   "metadata": {
    "nbpresent": {
     "id": "b4c43696-e62f-4022-99cb-0799a3161c30"
    }
   },
   "outputs": [],
   "source": [
    "# Setting up Python ecosystem environment for data analysis.\n",
    "\n",
    "%matplotlib inline\n",
    "\n",
    "import pandas as pd\n",
    "import matplotlib.pyplot as plt\n",
    "import seaborn as sns\n",
    "import numpy as np\n",
    "from sklearn import datasets, linear_model"
   ]
  },
  {
   "cell_type": "code",
   "execution_count": 202,
   "metadata": {
    "nbpresent": {
     "id": "b65b09ec-8935-44ee-be19-c51adfb9bb71"
    }
   },
   "outputs": [
    {
     "name": "stdout",
     "output_type": "stream",
     "text": [
      "        Timestamp  feed-temp  Feed-column  Column-overhead  \\\n",
      "0      21/09/2016     179.52         6.19           117.75   \n",
      "1      21/09/2016     178.90         6.20           117.74   \n",
      "2  21/09/16 01:00     178.32         6.21           117.54   \n",
      "3  21/09/16 01:30     179.54         6.20           117.68   \n",
      "4  21/09/16 02:00     180.74         6.19           117.90   \n",
      "\n",
      "   Column-top-pressure  Column-reflux  Column-performance  \n",
      "0                66.49          68.99                0.29  \n",
      "1                66.68          68.20                0.28  \n",
      "2                66.44          67.55                0.25  \n",
      "3                66.50          65.96                0.30  \n",
      "4                66.66          64.77                0.30  \n"
     ]
    }
   ],
   "source": [
    "# Loading the SampleDate provided by George Mani after deleting all other column except feed temperature and column feed.\n",
    "# To the study the relationship among temperature and column feed.\n",
    "# Loading the SampleDate provided by George Mani after deleting many columns.\n",
    "# Loading the data inot pandas dataframe for review.\n",
    "\n",
    "feeddata0 = pd.read_csv('/home/gopinathankm/work/workspace/machine-learning/linear-regression/feed-data.csv', index_col=False, header=0)\n",
    "print(feeddata0.head())"
   ]
  },
  {
   "cell_type": "code",
   "execution_count": 203,
   "metadata": {
    "nbpresent": {
     "id": "bef5628d-2379-4374-beea-0e9de77e5907"
    }
   },
   "outputs": [],
   "source": [
    "# Drop other columns except feed-temp and Feed-column.\n",
    "# df.columns is zero-based pd.Index\n",
    "feeddata1 = feeddata0.drop(feeddata0.columns[[0, 3, 4, 5, 6]], axis=1)  "
   ]
  },
  {
   "cell_type": "code",
   "execution_count": 204,
   "metadata": {
    "nbpresent": {
     "id": "992ea744-0e97-46ff-9c2a-f70741a46722"
    }
   },
   "outputs": [
    {
     "name": "stdout",
     "output_type": "stream",
     "text": [
      "(961, 2)\n"
     ]
    }
   ],
   "source": [
    "# Show the number of rows and columns in dataframe.\n",
    "print(feeddata1.shape)"
   ]
  },
  {
   "cell_type": "code",
   "execution_count": 205,
   "metadata": {
    "nbpresent": {
     "id": "570f215f-9033-4b2b-8c64-2e17a528375b"
    }
   },
   "outputs": [],
   "source": [
    "# Changing the column names of dataframe.\n",
    "feeddata1.columns = ['temp','feed']"
   ]
  },
  {
   "cell_type": "code",
   "execution_count": 206,
   "metadata": {
    "nbpresent": {
     "id": "ecd19cbf-db05-4ace-b935-6d651322eb36"
    }
   },
   "outputs": [],
   "source": [
    "# Making a numpy array of length 10.\n",
    "length = 961\n",
    "x = np.arange(length, dtype=float).reshape((length, 1))\n",
    "y = x + (np.random.rand(length)*100).reshape((length, 1))"
   ]
  },
  {
   "cell_type": "code",
   "execution_count": 207,
   "metadata": {
    "nbpresent": {
     "id": "6b112053-8ff9-4759-a7de-e9c7d3bf96c7"
    }
   },
   "outputs": [
    {
     "name": "stdout",
     "output_type": "stream",
     "text": [
      "[ 179.52  178.9   178.32  179.54  180.74  179.93  179.72  178.61  179.81\n",
      "  179.3   179.89  179.7   180.28  179.52  178.64  178.33  178.07  178.88\n",
      "  178.62  179.55  178.95  179.3   179.24  179.76  179.43  180.73  180.07\n",
      "  179.64  180.22  179.6   180.11  179.5   179.27  179.67  179.99  180.12\n",
      "  181.06  179.83  179.59  178.6   177.39  178.72  179.42  178.51  178.06\n",
      "  179.64  179.34  180.27  180.09  179.9   181.07  179.93  180.74  180.29\n",
      "  179.98  181.59  180.68  180.95  180.73  180.13  179.87  179.51  179.\n",
      "  178.55  179.    179.43  180.03  179.44  179.96  179.64  180.05  179.77\n",
      "  180.54  180.26  180.4   180.47  179.77  180.98  180.58  181.33  180.18\n",
      "  180.71  181.1   179.73  179.59  178.75  179.69  178.45  178.81  179.59\n",
      "  179.24  180.05  179.25  179.22  179.32  179.68  179.65  179.08  179.85\n",
      "  179.85  179.15  179.33  179.19  179.73  181.07  180.28  180.14  179.74\n",
      "  180.31  179.56  178.89  179.64  178.61  179.03  178.66  178.89  178.95\n",
      "  179.32  179.44  179.05  179.76  179.43  179.54  179.13  179.81  178.71\n",
      "  179.67  179.08  179.19  179.33  178.58  179.07  178.86  179.23  178.72\n",
      "  179.32  178.55  179.33  178.21  178.66  179.82  179.38  180.04  179.47\n",
      "  179.86  179.87  179.44  180.18  179.42  179.93  178.86  178.54  178.85\n",
      "  178.77  178.88  179.66  179.16  178.71  178.81  178.99  177.86  176.75\n",
      "  177.19  176.43  177.04  176.26  177.    176.76  176.62  177.12  176.75\n",
      "  177.29  177.19  177.12  177.04  176.73  177.33  177.59  177.15  177.2\n",
      "  177.31  176.69  177.07  176.56  176.89  176.64  176.65  176.91  176.52\n",
      "  176.8   176.82  176.68  176.87  176.95  176.99  177.12  177.14  176.37\n",
      "  177.2   176.42  176.78  176.35  176.37  176.2   176.78  176.33  176.18\n",
      "  175.93  177.4   176.85  177.5   177.9   177.    177.16  177.6   177.33\n",
      "  177.75  177.42  176.75  177.32  176.39  177.28  177.29  176.79  177.42\n",
      "  177.27  177.2   177.76  176.93  176.98  176.52  176.03  175.85  173.44\n",
      "  174.    172.7   173.25  172.41  172.3   173.94  174.32  173.39  172.81\n",
      "  166.56  164.93  173.29  178.55  174.71  171.64  172.4   171.97  170.98\n",
      "  171.36  171.73  171.61  170.02  170.1   171.31  171.21  171.29  171.16\n",
      "  170.38  171.08  170.47  170.29  170.58  170.44  170.98  170.05  169.85\n",
      "  171.39  171.36  171.84  171.81  171.47  172.45  172.3   171.75  171.84\n",
      "  170.87  170.41  170.55  170.28  171.02  171.32  170.21  170.57  170.03\n",
      "  169.17  170.36  169.63  170.49  170.62  170.22  171.1   170.7   170.54\n",
      "  170.71  169.74  170.35  169.91  170.03  170.47  170.34  171.1   170.79\n",
      "  170.52  170.54  170.54  171.08  171.63  170.37  170.64  170.65  170.64\n",
      "  170.69  170.89  171.34  170.58  170.    170.84  170.85  170.82  171.67\n",
      "  171.45  170.8   170.56  170.23  170.23  170.51  169.44  169.63  170.1\n",
      "  169.58  169.78  169.94  170.13  170.76  170.72  170.04  170.75  170.05\n",
      "  169.94  170.44  170.04  169.97  169.81  169.68  170.08  170.13  169.49\n",
      "  170.18  169.47  168.83  170.17  170.56  170.88  171.05  170.53  170.15\n",
      "  169.81  170.42  168.81  167.84  169.3   169.64  168.08  168.18  168.5\n",
      "  169.97  168.44  167.74  169.07  168.75  168.95  169.03  167.53  168.54\n",
      "  168.3   165.87  168.66  168.77  168.83  169.09  168.55  168.4   168.63\n",
      "  167.25  168.38  167.86  167.07  168.21  168.8   168.71  168.74  169.29\n",
      "  170.12  168.79  169.55  170.01  169.46  169.44  169.75  169.96  169.5\n",
      "  169.35  168.97  169.08  170.63  171.54  170.49  166.15  162.69  162.22\n",
      "  165.69  172.19  175.71  171.13  166.37  163.47  171.71  170.97  170.51\n",
      "  169.98  169.84  170.7   170.38  169.26  169.54  168.92  168.9   170.4\n",
      "  170.33  169.78  169.41  170.12  169.23  170.09  170.06  170.1   170.16\n",
      "  170.81  170.96  170.97  171.19  171.12  171.02  170.99  170.77  171.22\n",
      "  170.87  170.96  170.78  171.09  170.74  170.98  171.28  170.56  172.17\n",
      "  171.81  171.44  170.41  170.29  170.98  170.23  171.4   172.68  172.31\n",
      "  172.02  173.01  171.77  171.37  170.87  171.05  171.15  170.74  169.74\n",
      "  171.46  170.93  171.33  170.66  171.45  171.77  171.19  171.94  171.02\n",
      "  171.5   171.54  170.9   171.21  170.66  170.99  170.73  170.97  171.53\n",
      "  170.76  171.13  170.87  170.93  171.54  171.14  171.25  170.94  171.25\n",
      "  171.31  170.9   171.49  171.01  171.76  171.43  171.22  172.21  171.51\n",
      "  172.53  171.81  171.29  172.4   172.25  171.33  171.68  171.49  172.53\n",
      "  171.18  171.71  171.36  171.87  172.2   172.25  172.06  171.77  171.4\n",
      "  171.66  172.31  171.47  171.17  171.42  170.7   171.33  171.08  170.8\n",
      "  170.93  171.16  170.09  172.18  171.07  172.09  170.69  172.6   172.01\n",
      "  171.47  172.22  173.1   172.55  172.44  174.05  172.46  171.83  173.45\n",
      "  171.62  172.86  173.47  172.43  171.89  172.2   171.69  172.43  170.77\n",
      "  170.66  170.12  170.59  172.07  170.39  171.75  171.86  171.37  172.38\n",
      "  170.69  171.56  171.47  171.07  172.41  171.12  170.95  172.34  171.42\n",
      "  171.54  171.46  171.06  171.26  171.98  171.23  171.29  171.41  171.34\n",
      "  172.1   171.25  171.71  172.28  171.07  172.24  171.59  171.03  172.43\n",
      "  171.48  171.95  171.4   171.52  171.77  172.86  171.45  172.3   171.25\n",
      "  172.37  171.93  171.35  171.87  171.34  170.88  171.15  170.64  171.78\n",
      "  171.54  170.74  172.12  170.5   171.09  170.83  170.67  171.57  172.\n",
      "  170.92  172.02  170.88  172.83  172.04  171.06  172.04  171.08  170.04\n",
      "  171.5   168.56  155.7   146.08  151.1   167.56  172.69  172.56  171.56\n",
      "  176.2   175.23  176.31  174.66  175.01  176.25  175.53  176.09  175.09\n",
      "  177.7   178.15  171.88  174.81  175.41  178.59  179.1   178.29  177.62\n",
      "  177.1   177.26  177.35  177.68  177.54  177.55  177.12  176.99  176.57\n",
      "  175.72  175.29  175.13  175.43  175.39  175.06  175.26  175.04  175.16\n",
      "  175.48  174.82  174.39  175.35  175.41  174.6   174.55  174.16  174.77\n",
      "  176.7   176.89  177.06  176.31  176.32  177.59  178.58  178.61  178.45\n",
      "  177.98  177.71  178.18  179.52  178.51  177.54  178.62  179.13  178.54\n",
      "  177.66  175.74  176.51  177.55  177.55  177.99  178.43  177.67  177.12\n",
      "  176.02  175.8   176.96  177.68  177.51  177.52  177.42  177.16  176.92\n",
      "  176.93  177.    176.52  175.81  175.75  176.57  177.22  177.16  177.31\n",
      "  177.51  177.45  177.55  177.88  178.09  178.22  178.47  179.15  179.41\n",
      "  180.22  179.01  178.89  177.36  178.79  179.88  180.    179.    179.41\n",
      "  179.23  178.85  178.82  177.48  176.12  177.74  176.64  177.17  177.71\n",
      "  177.29  176.75  177.1   177.46  177.78  177.87  178.03  178.03  177.87\n",
      "  177.6   177.67  177.63  177.66  177.72  177.67  177.86  177.72  177.62\n",
      "  177.55  177.35  177.29  177.3   177.74  178.08  178.13  178.28  178.3\n",
      "  178.25  178.65  178.87  178.17  178.05  180.23  178.63  177.36  177.96\n",
      "  178.88  178.98  178.78  178.81  178.6   177.18  177.41  177.59  177.95\n",
      "  178.27  178.3   177.49  176.55  175.61  176.18  175.88  175.46  175.43\n",
      "  174.2   174.2   174.69  175.41  176.23  175.98  175.6   175.49  174.47\n",
      "  174.47  175.55  176.23  176.29  176.42  176.25  176.06  175.63  175.61\n",
      "  175.68  175.93  176.44  176.96  176.2   176.25  176.4   175.89  176.24\n",
      "  175.77  175.41  175.33  174.56  174.93  175.45  175.37  175.35  175.34\n",
      "  175.37  175.08  175.21  175.09  175.01  174.41  175.06  175.34  174.89\n",
      "  175.02  174.76  174.77  174.72  175.2   175.22  175.4   174.87  175.\n",
      "  174.59  174.99  175.61  175.53  175.59  175.63  175.67  175.65  175.67\n",
      "  175.02  175.37  176.09  176.14  176.21  175.77  175.4   175.21  172.93\n",
      "  172.59  174.88  175.49  175.4   175.51  175.58  175.75  175.43  175.8\n",
      "  175.94  175.26  175.4   175.22  174.65  181.69  172.61  171.19  176.96\n",
      "  174.63  175.83  176.1   176.18  174.42  174.87  175.7   175.29  175.95\n",
      "  174.94  175.48  174.9   174.11  174.15  174.67  174.63  174.74  175.29\n",
      "  174.45  175.26  173.83  173.61  175.7   174.88  175.17  173.43  173.\n",
      "  175.3   174.6   173.76  173.87  174.7   175.09  175.31  175.52  175.02\n",
      "  175.41  175.58  172.46  174.22  173.79  173.78  169.4   169.83  172.52\n",
      "  175.66  176.86  177.99  175.3   173.87  171.26  173.38]\n"
     ]
    }
   ],
   "source": [
    "# fitting dataframe data into numpy array\n",
    "x = feeddata1.temp.values\n",
    "y = feeddata1.feed.values\n",
    "print(x)"
   ]
  },
  {
   "cell_type": "code",
   "execution_count": 208,
   "metadata": {
    "nbpresent": {
     "id": "2030e28d-41a3-4bbb-adee-0257d0058022"
    }
   },
   "outputs": [
    {
     "name": "stdout",
     "output_type": "stream",
     "text": [
      "[ 6.19  6.2   6.21  6.2   6.19  6.2   6.2   6.21  6.2   6.2   6.2   6.2\n",
      "  6.2   6.2   6.2   6.19  6.2   6.2   6.2   6.19  6.2   6.2   6.2   6.19\n",
      "  6.21  6.2   6.2   6.2   6.2   6.2   6.2   6.2   6.2   6.2   6.2   6.2\n",
      "  6.2   6.2   6.2   6.2   6.21  6.2   6.2   6.2   6.2   6.2   6.2   6.21\n",
      "  6.2   6.21  6.19  6.2   6.2   6.19  6.2   6.19  6.2   6.21  6.2   6.2\n",
      "  6.2   6.2   6.2   6.19  6.2   6.2   6.2   6.2   6.2   6.21  6.19  6.21\n",
      "  6.2   6.2   6.21  6.2   6.2   6.2   6.2   6.2   6.21  6.05  6.    6.    6.\n",
      "  6.    6.    6.    6.    5.99  6.    6.    5.99  6.    6.01  6.    6.\n",
      "  6.01  6.    5.99  6.    5.99  6.    5.99  6.    6.    5.99  5.99  6.01\n",
      "  6.    6.    5.99  6.01  6.01  5.99  6.    6.    6.    6.    6.    6.01\n",
      "  6.    6.    6.    6.    6.01  5.99  6.    6.    6.01  6.    6.    6.    6.\n",
      "  6.    6.    6.01  6.    6.    6.    5.99  6.    6.    6.    6.    6.01\n",
      "  6.    6.    6.    6.01  5.99  6.01  6.01  6.    6.01  6.    6.01  6.    6.\n",
      "  6.01  6.    6.    6.01  6.    6.    6.01  6.    6.    6.    6.    6.    6.\n",
      "  6.    6.    5.99  6.    6.    5.99  6.    6.    6.    6.    6.01  6.\n",
      "  5.99  6.    6.    6.    6.    6.    6.    6.    6.    6.    6.01  6.    6.\n",
      "  5.99  6.    6.    6.    6.01  6.01  6.    6.    6.    6.    6.01  6.    6.\n",
      "  6.01  6.    6.01  6.    6.    6.01  6.01  6.01  6.    6.    6.    6.    6.\n",
      "  6.    6.    6.    6.    6.    6.01  6.    6.    6.    6.    6.    5.99\n",
      "  6.    6.    5.99  6.    6.    6.    5.99  5.99  6.    6.    6.03  6.    6.\n",
      "  6.    6.    6.    6.01  6.    6.12  6.26  6.1   6.1   6.1   6.11  6.1\n",
      "  6.09  6.11  6.1   6.11  6.1   6.1   6.1   6.1   6.11  6.1   6.1   6.1\n",
      "  6.09  6.1   6.1   6.09  6.1   6.1   6.1   6.11  6.1   6.1   6.1   6.1\n",
      "  6.1   6.1   6.1   6.1   6.1   6.09  6.11  6.09  6.11  6.11  6.1   6.11\n",
      "  6.1   6.1   6.09  6.1   6.1   6.1   6.09  6.11  6.09  6.11  6.11  6.09\n",
      "  6.1   6.09  6.11  6.11  6.1   6.1   6.11  6.1   6.1   6.1   6.09  6.1\n",
      "  6.11  6.11  6.11  6.1   6.33  6.5   6.49  6.5   6.51  6.5   6.51  6.5\n",
      "  6.5   6.5   6.5   6.5   6.51  6.49  6.49  6.5   6.5   6.5   6.49  6.5\n",
      "  6.5   6.5   6.5   6.5   6.51  6.5   6.51  6.5   6.49  6.5   6.51  6.5\n",
      "  6.5   6.5   6.51  6.49  6.5   6.5   6.5   6.5   6.51  6.49  6.5   6.5\n",
      "  6.5   6.5   6.5   6.51  6.5   6.5   6.5   6.5   6.51  6.5   6.49  6.51\n",
      "  6.5   6.49  6.5   6.49  6.51  6.5   6.49  6.49  6.5   6.5   6.51  6.5\n",
      "  6.5   6.5   6.51  6.5   6.5   6.5   6.5   6.49  6.5   6.5   6.5   6.5\n",
      "  6.51  6.5   6.5   6.51  6.51  6.49  6.49  6.49  6.49  6.5   6.5   6.51\n",
      "  6.49  6.5   6.49  6.52  6.5   6.49  6.5   6.5   6.51  6.5   6.49  6.5\n",
      "  6.49  6.5   6.51  6.5   6.5   6.51  6.5   6.5   6.5   6.5   6.5   6.5\n",
      "  6.5   6.5   6.5   6.5   6.5   6.5   6.49  6.5   6.51  6.49  6.5   6.5\n",
      "  6.49  6.5   6.49  6.5   6.51  6.5   6.5   6.51  6.5   6.49  6.49  6.5\n",
      "  6.51  6.5   6.5   6.5   6.5   6.5   6.51  6.5   6.5   6.51  6.5   6.5\n",
      "  6.5   6.51  6.5   6.5   6.49  6.51  6.51  6.5   6.5   6.5   6.5   6.5\n",
      "  6.5   6.51  6.49  6.5   6.51  6.49  6.32  6.33  6.3   6.3   6.3   6.19\n",
      "  6.21  6.19  6.19  6.2   6.19  6.2   6.21  6.2   6.2   6.19  6.21  6.2\n",
      "  6.2   6.2   6.19  6.06  6.    5.99  6.    6.01  6.    5.99  5.99  6.    6.\n",
      "  5.99  6.01  6.    6.    6.    6.    6.    6.    6.    6.    5.99  6.\n",
      "  5.99  6.    6.01  6.    5.9   5.67  5.51  5.3   5.2   5.2   5.19  5.19\n",
      "  5.21  5.2   5.09  4.99  5.    5.    5.    5.01  5.    5.    4.99  5.\n",
      "  5.25  5.48  5.5   5.49  5.51  5.51  5.5   5.5   5.5   5.5   5.51  5.51\n",
      "  5.5   5.5   5.5   5.5   5.5   5.51  5.51  5.5   5.51  5.5   5.51  5.5\n",
      "  5.5   5.5   5.5   5.51  5.5   5.5   5.5   5.49  5.5   5.5   5.51  5.5\n",
      "  5.51  5.5   5.5   5.5   5.5   5.5   5.5   5.5   5.5   5.5   5.51  5.5\n",
      "  5.5   5.5   5.5   5.51  5.5   5.5   5.5   5.51  5.5   5.5   5.5   5.49\n",
      "  5.5   5.49  5.5   5.51  5.5   5.5   5.5   5.5   5.49  5.5   5.51  5.5\n",
      "  5.5   5.5   5.51  5.5   5.51  4.73  2.5   1.18  1.18  1.16  1.14  1.19\n",
      "  1.23  1.22  1.2   1.22  1.18  1.18  1.18  1.18  1.22  1.21  1.18  1.18\n",
      "  1.19  1.22  1.22  1.22  1.22  1.22  1.22  1.24  1.26  1.23  1.14  1.24\n",
      "  1.26  1.18  1.14  1.14  1.14  1.14  1.14  1.14  1.14  1.14  1.14  1.14\n",
      "  1.14  1.14  1.14  1.14  1.14  1.14  1.14  1.14  1.14  1.16  1.22  1.26\n",
      "  1.23  1.22  1.22  1.19  1.17  1.18  1.24  1.17  1.18  1.21  1.2   1.18\n",
      "  1.18  1.18  1.18  1.18  1.21  1.22  1.22  1.22  1.22  1.22  1.22  1.22\n",
      "  1.22  1.22  1.22  1.22  1.22  1.22  1.22  1.22  1.22  1.24  1.26  1.26\n",
      "  1.26  1.19  1.14  1.19  1.26  1.14  1.14  1.14  1.14  1.23  1.22  1.24\n",
      "  1.22  1.22  1.21  1.27  1.26  1.26  1.25  1.27  1.3   1.29  1.26  1.28\n",
      "  1.3   1.3   1.3   1.3   1.3   1.3   1.24  1.22  1.22  1.22  1.22  1.23\n",
      "  1.26  1.26  1.26  1.26  1.26  1.26  1.26  1.26  1.26  1.26  1.26  1.26\n",
      "  1.19  1.14  1.14  1.23  1.26  1.23  1.14  1.14  1.14  1.23  1.21  1.25\n",
      "  1.22  1.22  1.22  1.2   1.18  1.17  1.25  1.18  1.28  1.28  1.21  1.3\n",
      "  1.3   1.3   1.3   1.28  1.22  1.2   1.22  1.22  1.22  1.22  1.22  1.22\n",
      "  1.22  1.23  1.24  1.25  1.26  1.2   1.16  1.17  1.18  1.18  1.18  1.18\n",
      "  1.18  1.18  1.18  1.15  1.1   1.1   1.09  1.09  1.09  1.09  1.1   1.17\n",
      "  1.18  1.18  1.18  1.16  1.22  1.21  1.24  1.17  1.18  1.17  1.14  1.14\n",
      "  1.17  1.18  1.18  1.18  1.18  1.18  1.18  1.18  1.15  1.08  1.05  1.07\n",
      "  1.09  1.09  1.09  1.09  1.09  1.09  1.09  1.09  1.09  1.09  1.09  1.09\n",
      "  1.09  1.09  1.09  1.09  1.09  1.09  1.09  1.09  1.09  1.09  1.09  1.09\n",
      "  1.16  1.18  1.17  1.17  1.14  1.14  1.14  1.14  1.17  1.17  1.18  1.18\n",
      "  1.18  1.18  1.18  1.18  1.18  1.17  1.1   1.1   1.14  1.05  1.05  1.05\n",
      "  1.05  1.08  1.09  1.09  1.09  1.09  1.09  1.09  1.09  1.09  1.09  1.09\n",
      "  1.09  1.1   1.11  1.1   1.02  1.    1.    1.    1.    1.11  1.1   1.09\n",
      "  1.13  1.05  1.05  1.09  1.18  1.17  1.14  1.14  1.61  1.66  1.23  1.23\n",
      "  1.24  1.14  1.14  1.14  1.14  2.12  3.5   4.    4.01  4.    4.    4.    4.\n",
      "  4.    4.    4.01]\n"
     ]
    }
   ],
   "source": [
    "print(y)"
   ]
  },
  {
   "cell_type": "code",
   "execution_count": 209,
   "metadata": {
    "nbpresent": {
     "id": "3c0dcfb9-c858-48ef-b321-f5a78e589ba3"
    }
   },
   "outputs": [],
   "source": [
    "x = x.reshape(length, 1)\n",
    "y = y.reshape(length, 1)"
   ]
  },
  {
   "cell_type": "code",
   "execution_count": 210,
   "metadata": {
    "nbpresent": {
     "id": "8b0a575f-c25d-4f9a-b33f-2bdbcbd1c635"
    }
   },
   "outputs": [
    {
     "data": {
      "image/png": "[encoded data removed]",
      "text/plain": [
       "<matplotlib.figure.Figure at 0x7f40877ae5c0>"
      ]
     },
     "metadata": {},
     "output_type": "display_data"
    }
   ],
   "source": [
    "plt.plot(x,y)\n",
    "\n",
    "plt.title('Feed Info')\n",
    "plt.ylabel('feed')\n",
    "plt.xlabel('temp')\n",
    "\n",
    "plt.show()"
   ]
  },
  {
   "cell_type": "code",
   "execution_count": 211,
   "metadata": {
    "nbpresent": {
     "id": "477cf9d4-6fc2-4af3-9328-b0acf5c91d96"
    }
   },
   "outputs": [
    {
     "data": {
      "text/plain": [
       "LinearRegression(copy_X=True, fit_intercept=True, n_jobs=1, normalize=False)"
      ]
     },
     "execution_count": 211,
     "metadata": {},
     "output_type": "execute_result"
    }
   ],
   "source": [
    "# Linear Regression model is created\n",
    "regr = linear_model.LinearRegression()\n",
    "regr.fit(x, y)"
   ]
  },
  {
   "cell_type": "code",
   "execution_count": 212,
   "metadata": {
    "nbpresent": {
     "id": "13643680-314c-49b8-9186-cea685bdc098"
    }
   },
   "outputs": [
    {
     "data": {
      "image/png": "[encoded data removed]",
      "text/plain": [
       "<matplotlib.figure.Figure at 0x7f40862c1eb8>"
      ]
     },
     "metadata": {},
     "output_type": "display_data"
    }
   ],
   "source": [
    "# plot data.\n",
    "\n",
    "plt.title('Feed Info')\n",
    "plt.ylabel('feed')\n",
    "plt.xlabel('temp')\n",
    "plt.scatter(x, y,  color='black')\n",
    "plt.plot(x, regr.predict(x), color='blue', linewidth=3)\n",
    "plt.xticks(())\n",
    "plt.yticks(())\n",
    "\n",
    "plt.show()"
   ]
  },
  {
   "cell_type": "markdown",
   "metadata": {
    "nbpresent": {
     "id": "bc31ba70-9535-4be1-ad1f-28304e5cd182"
    }
   },
   "source": [
    "# Solution 2"
   ]
  },
  {
   "cell_type": "code",
   "execution_count": 172,
   "metadata": {
    "nbpresent": {
     "id": "daa08dd6-88bf-43f9-8441-899fd4b4835b"
    }
   },
   "outputs": [
    {
     "name": "stdout",
     "output_type": "stream",
     "text": [
      "(961, 2)\n"
     ]
    }
   ],
   "source": [
    "print(feeddata1.shape)"
   ]
  },
  {
   "cell_type": "code",
   "execution_count": 173,
   "metadata": {
    "nbpresent": {
     "id": "026781b8-cbc3-43f7-8e0a-8422cc3ae924"
    }
   },
   "outputs": [
    {
     "name": "stdout",
     "output_type": "stream",
     "text": [
      "Series([], dtype: float64)\n"
     ]
    }
   ],
   "source": [
    "null_columns=feeddata1.columns[df1.isnull().any()]\n",
    "\n",
    "print(df1[null_columns].isnull().sum())"
   ]
  },
  {
   "cell_type": "code",
   "execution_count": 174,
   "metadata": {
    "nbpresent": {
     "id": "1fc67ecc-7226-409d-a619-1ff433222c3c"
    }
   },
   "outputs": [
    {
     "name": "stdout",
     "output_type": "stream",
     "text": [
      "['temp' 'feed']\n"
     ]
    }
   ],
   "source": [
    "column_names = feeddata1.columns.values\n",
    "print(column_names)"
   ]
  },
  {
   "cell_type": "code",
   "execution_count": 179,
   "metadata": {
    "nbpresent": {
     "id": "d0f5e6e5-083d-4768-949f-ce9acbf591de"
    }
   },
   "outputs": [],
   "source": [
    "feeddata1.columns = ['temp','feed']"
   ]
  },
  {
   "cell_type": "code",
   "execution_count": 182,
   "metadata": {
    "nbpresent": {
     "id": "c4c8ff46-f530-4f9c-9303-d36a4b206dd3"
    }
   },
   "outputs": [
    {
     "data": {
      "text/plain": [
       "<seaborn.axisgrid.FacetGrid at 0x7f40875b90f0>"
      ]
     },
     "execution_count": 182,
     "metadata": {},
     "output_type": "execute_result"
    },
    {
     "data": {
      "image/png": "[encoded data removed]",
      "text/plain": [
       "<matplotlib.figure.Figure at 0x7f40875b9c50>"
      ]
     },
     "metadata": {},
     "output_type": "display_data"
    }
   ],
   "source": [
    "# Recommended way\n",
    "sns.lmplot(x='temp', y='feed', data=feeddata1)\n",
    " \n",
    "# Alternative waysns.lmplot(x='temp', y='feed', data=feeddata1)\n",
    "\n",
    "# sns.lmplot(x=feeddata1.feed, y=feeddata1.temp, data=feeddata1)"
   ]
  },
  {
   "cell_type": "code",
   "execution_count": 183,
   "metadata": {
    "nbpresent": {
     "id": "a36678bc-8ed3-45a0-ae00-f030f1c225ab"
    }
   },
   "outputs": [
    {
     "name": "stdout",
     "output_type": "stream",
     "text": [
      "0      179.52\n",
      "1      178.90\n",
      "2      178.32\n",
      "3      179.54\n",
      "4      180.74\n",
      "5      179.93\n",
      "6      179.72\n",
      "7      178.61\n",
      "8      179.81\n",
      "9      179.30\n",
      "10     179.89\n",
      "11     179.70\n",
      "12     180.28\n",
      "13     179.52\n",
      "14     178.64\n",
      "15     178.33\n",
      "16     178.07\n",
      "17     178.88\n",
      "18     178.62\n",
      "19     179.55\n",
      "20     178.95\n",
      "21     179.30\n",
      "22     179.24\n",
      "23     179.76\n",
      "24     179.43\n",
      "25     180.73\n",
      "26     180.07\n",
      "27     179.64\n",
      "28     180.22\n",
      "29     179.60\n",
      "        ...  \n",
      "931    175.70\n",
      "932    174.88\n",
      "933    175.17\n",
      "934    173.43\n",
      "935    173.00\n",
      "936    175.30\n",
      "937    174.60\n",
      "938    173.76\n",
      "939    173.87\n",
      "940    174.70\n",
      "941    175.09\n",
      "942    175.31\n",
      "943    175.52\n",
      "944    175.02\n",
      "945    175.41\n",
      "946    175.58\n",
      "947    172.46\n",
      "948    174.22\n",
      "949    173.79\n",
      "950    173.78\n",
      "951    169.40\n",
      "952    169.83\n",
      "953    172.52\n",
      "954    175.66\n",
      "955    176.86\n",
      "956    177.99\n",
      "957    175.30\n",
      "958    173.87\n",
      "959    171.26\n",
      "960    173.38\n",
      "Name: temp, Length: 961, dtype: float64 0      6.19\n",
      "1      6.20\n",
      "2      6.21\n",
      "3      6.20\n",
      "4      6.19\n",
      "5      6.20\n",
      "6      6.20\n",
      "7      6.21\n",
      "8      6.20\n",
      "9      6.20\n",
      "10     6.20\n",
      "11     6.20\n",
      "12     6.20\n",
      "13     6.20\n",
      "14     6.20\n",
      "15     6.19\n",
      "16     6.20\n",
      "17     6.20\n",
      "18     6.20\n",
      "19     6.19\n",
      "20     6.20\n",
      "21     6.20\n",
      "22     6.20\n",
      "23     6.19\n",
      "24     6.21\n",
      "25     6.20\n",
      "26     6.20\n",
      "27     6.20\n",
      "28     6.20\n",
      "29     6.20\n",
      "       ... \n",
      "931    1.10\n",
      "932    1.09\n",
      "933    1.13\n",
      "934    1.05\n",
      "935    1.05\n",
      "936    1.09\n",
      "937    1.18\n",
      "938    1.17\n",
      "939    1.14\n",
      "940    1.14\n",
      "941    1.61\n",
      "942    1.66\n",
      "943    1.23\n",
      "944    1.23\n",
      "945    1.24\n",
      "946    1.14\n",
      "947    1.14\n",
      "948    1.14\n",
      "949    1.14\n",
      "950    2.12\n",
      "951    3.50\n",
      "952    4.00\n",
      "953    4.01\n",
      "954    4.00\n",
      "955    4.00\n",
      "956    4.00\n",
      "957    4.00\n",
      "958    4.00\n",
      "959    4.00\n",
      "960    4.01\n",
      "Name: feed, Length: 961, dtype: float64\n"
     ]
    }
   ],
   "source": [
    "print(feeddata1.temp, feeddata1.feed)"
   ]
  },
  {
   "cell_type": "code",
   "execution_count": 184,
   "metadata": {
    "nbpresent": {
     "id": "68de0296-cf2f-4c06-8f60-06b99f35b4ba"
    }
   },
   "outputs": [],
   "source": [
    "import numpy as np\n",
    "feeddata1 = feeddata1.replace('?', np.nan)\n",
    "df1 = df1.dropna()"
   ]
  },
  {
   "cell_type": "code",
   "execution_count": 185,
   "metadata": {
    "nbpresent": {
     "id": "18781cad-e3ea-4116-a9e1-60b77cb99355"
    }
   },
   "outputs": [],
   "source": [
    "# Getting X and y from columns of dataframe)\n",
    "X = df1[['temp']]\n",
    "y = df1[['feed']]"
   ]
  },
  {
   "cell_type": "code",
   "execution_count": 186,
   "metadata": {
    "nbpresent": {
     "id": "41a52a5c-8973-455c-a4ed-1f833cab687a"
    }
   },
   "outputs": [
    {
     "data": {
      "image/png": "[encoded data removed]",
      "text/plain": [
       "<matplotlib.figure.Figure at 0x7f4087680748>"
      ]
     },
     "metadata": {},
     "output_type": "display_data"
    }
   ],
   "source": [
    "plt.plot(X,y)\n",
    "\n",
    "plt.title('Feed Info')\n",
    "plt.ylabel('feed')\n",
    "plt.xlabel('temp')\n",
    "\n",
    "plt.show()"
   ]
  },
  {
   "cell_type": "code",
   "execution_count": 187,
   "metadata": {
    "nbpresent": {
     "id": "d38326fc-86c2-44ca-8243-042afb3866e5"
    }
   },
   "outputs": [],
   "source": [
    "from sklearn.model_selection import train_test_split\n",
    "\n",
    "# Split X and y into X_\n",
    "X_train, X_test, y_train, y_test = train_test_split(X, y, test_size=0.25, random_state=1)"
   ]
  },
  {
   "cell_type": "code",
   "execution_count": 188,
   "metadata": {
    "nbpresent": {
     "id": "900a5484-5c74-47bd-a1dd-e8bdbb84bcd2"
    }
   },
   "outputs": [
    {
     "data": {
      "text/plain": [
       "LinearRegression(copy_X=True, fit_intercept=True, n_jobs=1, normalize=False)"
      ]
     },
     "execution_count": 188,
     "metadata": {},
     "output_type": "execute_result"
    }
   ],
   "source": [
    "# Fitting the model.\n",
    "\n",
    "from sklearn.linear_model import LinearRegression\n",
    "\n",
    "regression_model = LinearRegression()\n",
    "regression_model.fit(X_train, y_train)"
   ]
  },
  {
   "cell_type": "code",
   "execution_count": 189,
   "metadata": {
    "nbpresent": {
     "id": "fd444d12-70a6-4cca-8c1d-ae2040f1d474"
    }
   },
   "outputs": [
    {
     "name": "stdout",
     "output_type": "stream",
     "text": [
      "The coefficient for temp is -0.19092713661678018\n"
     ]
    }
   ],
   "source": [
    "for idx, col_name in enumerate(X_train.columns):\n",
    "    print(\"The coefficient for {} is {}\".format(col_name, regression_model.coef_[0][idx]))"
   ]
  },
  {
   "cell_type": "code",
   "execution_count": 190,
   "metadata": {
    "nbpresent": {
     "id": "dcacff6e-1b00-4a7f-80d6-f77ca3e5e449"
    }
   },
   "outputs": [
    {
     "name": "stdout",
     "output_type": "stream",
     "text": [
      "The intercept for our model is 37.80186670867235\n"
     ]
    }
   ],
   "source": [
    "intercept = regression_model.intercept_[0]\n",
    "print(\"The intercept for our model is {}\".format(intercept))"
   ]
  },
  {
   "cell_type": "code",
   "execution_count": 191,
   "metadata": {
    "nbpresent": {
     "id": "ec6613a5-dd51-4963-9089-035e6f5ff16a"
    }
   },
   "outputs": [
    {
     "data": {
      "text/plain": [
       "0.024021467204045632"
      ]
     },
     "execution_count": 191,
     "metadata": {},
     "output_type": "execute_result"
    }
   ],
   "source": [
    "regression_model.score(X_test, y_test)"
   ]
  },
  {
   "cell_type": "code",
   "execution_count": 192,
   "metadata": {
    "nbpresent": {
     "id": "897c5793-bc30-462c-9e70-ef93f6ae4541"
    }
   },
   "outputs": [
    {
     "data": {
      "text/plain": [
       "5.2497195317169556"
      ]
     },
     "execution_count": 192,
     "metadata": {},
     "output_type": "execute_result"
    }
   ],
   "source": [
    "from sklearn.metrics import mean_squared_error\n",
    "\n",
    "y_predict = regression_model.predict(X_test)\n",
    "\n",
    "regression_model_mse = mean_squared_error(y_predict, y_test)\n",
    "\n",
    "regression_model_mse"
   ]
  },
  {
   "cell_type": "code",
   "execution_count": 193,
   "metadata": {
    "nbpresent": {
     "id": "c35098a1-3f20-47b8-be17-7b090556397f"
    }
   },
   "outputs": [
    {
     "data": {
      "text/plain": [
       "2.2912266434634865"
      ]
     },
     "execution_count": 193,
     "metadata": {},
     "output_type": "execute_result"
    }
   ],
   "source": [
    "import math\n",
    "\n",
    "math.sqrt(regression_model_mse)"
   ]
  }
 ],
 "metadata": {
  "kernelspec": {
   "display_name": "Python [conda env:my_env36]",
   "language": "python",
   "name": "conda-env-my_env36-py"
  },
  "language_info": {
   "codemirror_mode": {
    "name": "ipython",
    "version": 3
   },
   "file_extension": ".py",
   "mimetype": "text/x-python",
   "name": "python",
   "nbconvert_exporter": "python",
   "pygments_lexer": "ipython3",
   "version": "3.6.3"
  }
 },
 "nbformat": 4,
 "nbformat_minor": 2
}
